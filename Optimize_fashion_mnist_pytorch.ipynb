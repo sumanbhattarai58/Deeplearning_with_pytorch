{
  "nbformat": 4,
  "nbformat_minor": 0,
  "metadata": {
    "colab": {
      "provenance": [],
      "gpuType": "T4",
      "authorship_tag": "ABX9TyPXw2CuYNZi3YGKdS11NO66",
      "include_colab_link": true
    },
    "kernelspec": {
      "name": "python3",
      "display_name": "Python 3"
    },
    "language_info": {
      "name": "python"
    },
    "accelerator": "GPU"
  },
  "cells": [
    {
      "cell_type": "markdown",
      "metadata": {
        "id": "view-in-github",
        "colab_type": "text"
      },
      "source": [
        "<a href=\"https://colab.research.google.com/github/sumanbhattarai58/Deeplearning_with_pytorch/blob/main/Optimize_fashion_mnist_pytorch.ipynb\" target=\"_parent\"><img src=\"https://colab.research.google.com/assets/colab-badge.svg\" alt=\"Open In Colab\"/></a>"
      ]
    },
    {
      "cell_type": "markdown",
      "source": [
        "Optimizing the fashion mnist neural network.\n",
        "1. Dropouts\n",
        "2. Batch Normalization\n",
        "3. Regularization (l2)"
      ],
      "metadata": {
        "id": "unbsT8k4N9pe"
      }
    },
    {
      "cell_type": "code",
      "execution_count": null,
      "metadata": {
        "id": "KjLaFW9kUSpT"
      },
      "outputs": [],
      "source": [
        "import pandas as pd\n",
        "from sklearn.model_selection import train_test_split\n",
        "import matplotlib.pyplot as plt\n",
        "import torch\n",
        "from torch.utils.data import Dataset, DataLoader\n",
        "import torch.nn as nn\n",
        "import torch.optim as optim\n",
        "import numpy as np"
      ]
    },
    {
      "cell_type": "code",
      "source": [
        "#set random seeds for reproducibility\n",
        "torch.manual_seed(42)"
      ],
      "metadata": {
        "colab": {
          "base_uri": "https://localhost:8080/"
        },
        "id": "SjtgemsXVwgK",
        "outputId": "c1e33559-14ae-4040-88fe-b8bb9ca16dc3"
      },
      "execution_count": null,
      "outputs": [
        {
          "output_type": "execute_result",
          "data": {
            "text/plain": [
              "<torch._C.Generator at 0x7c1224e8c050>"
            ]
          },
          "metadata": {},
          "execution_count": 3
        }
      ]
    },
    {
      "cell_type": "code",
      "source": [
        "# Check for GPU\n",
        "device = torch.device('cuda' if torch.cuda.is_available() else 'cpu')\n",
        "print(f\"Using device: {device}\")"
      ],
      "metadata": {
        "colab": {
          "base_uri": "https://localhost:8080/"
        },
        "id": "72JUCSToR43p",
        "outputId": "1ff69d6b-787a-498a-f73b-d29e0cd358c7"
      },
      "execution_count": null,
      "outputs": [
        {
          "output_type": "stream",
          "name": "stdout",
          "text": [
            "Using device: cuda\n"
          ]
        }
      ]
    },
    {
      "cell_type": "code",
      "source": [
        "data = pd.read_csv('fashionmnist_small.csv')\n",
        "data.head()"
      ],
      "metadata": {
        "colab": {
          "base_uri": "https://localhost:8080/",
          "height": 255
        },
        "id": "KnNDpWaUV58e",
        "outputId": "bd76a213-4a1b-4ff0-daa6-4e6a909d59d2"
      },
      "execution_count": null,
      "outputs": [
        {
          "output_type": "execute_result",
          "data": {
            "text/plain": [
              "   label  pixel1  pixel2  pixel3  pixel4  pixel5  pixel6  pixel7  pixel8  \\\n",
              "0      9       0       0       0       0       0       0       0       0   \n",
              "1      7       0       0       0       0       0       0       0       0   \n",
              "2      0       0       0       0       0       0       1       0       0   \n",
              "3      8       0       0       0       0       0       0       0       0   \n",
              "4      8       0       0       0       0       0       0       0       0   \n",
              "\n",
              "   pixel9  ...  pixel775  pixel776  pixel777  pixel778  pixel779  pixel780  \\\n",
              "0       0  ...         0         7         0        50       205       196   \n",
              "1       0  ...         0         0         0         0         0         0   \n",
              "2       0  ...       142       142       142        21         0         3   \n",
              "3       0  ...         0         0         0         0         0         0   \n",
              "4       0  ...       213       203       174       151       188        10   \n",
              "\n",
              "   pixel781  pixel782  pixel783  pixel784  \n",
              "0       213       165         0         0  \n",
              "1         0         0         0         0  \n",
              "2         0         0         0         0  \n",
              "3         0         0         0         0  \n",
              "4         0         0         0         0  \n",
              "\n",
              "[5 rows x 785 columns]"
            ],
            "text/html": [
              "\n",
              "  <div id=\"df-1f151127-b02a-4798-8bce-514d6605d95d\" class=\"colab-df-container\">\n",
              "    <div>\n",
              "<style scoped>\n",
              "    .dataframe tbody tr th:only-of-type {\n",
              "        vertical-align: middle;\n",
              "    }\n",
              "\n",
              "    .dataframe tbody tr th {\n",
              "        vertical-align: top;\n",
              "    }\n",
              "\n",
              "    .dataframe thead th {\n",
              "        text-align: right;\n",
              "    }\n",
              "</style>\n",
              "<table border=\"1\" class=\"dataframe\">\n",
              "  <thead>\n",
              "    <tr style=\"text-align: right;\">\n",
              "      <th></th>\n",
              "      <th>label</th>\n",
              "      <th>pixel1</th>\n",
              "      <th>pixel2</th>\n",
              "      <th>pixel3</th>\n",
              "      <th>pixel4</th>\n",
              "      <th>pixel5</th>\n",
              "      <th>pixel6</th>\n",
              "      <th>pixel7</th>\n",
              "      <th>pixel8</th>\n",
              "      <th>pixel9</th>\n",
              "      <th>...</th>\n",
              "      <th>pixel775</th>\n",
              "      <th>pixel776</th>\n",
              "      <th>pixel777</th>\n",
              "      <th>pixel778</th>\n",
              "      <th>pixel779</th>\n",
              "      <th>pixel780</th>\n",
              "      <th>pixel781</th>\n",
              "      <th>pixel782</th>\n",
              "      <th>pixel783</th>\n",
              "      <th>pixel784</th>\n",
              "    </tr>\n",
              "  </thead>\n",
              "  <tbody>\n",
              "    <tr>\n",
              "      <th>0</th>\n",
              "      <td>9</td>\n",
              "      <td>0</td>\n",
              "      <td>0</td>\n",
              "      <td>0</td>\n",
              "      <td>0</td>\n",
              "      <td>0</td>\n",
              "      <td>0</td>\n",
              "      <td>0</td>\n",
              "      <td>0</td>\n",
              "      <td>0</td>\n",
              "      <td>...</td>\n",
              "      <td>0</td>\n",
              "      <td>7</td>\n",
              "      <td>0</td>\n",
              "      <td>50</td>\n",
              "      <td>205</td>\n",
              "      <td>196</td>\n",
              "      <td>213</td>\n",
              "      <td>165</td>\n",
              "      <td>0</td>\n",
              "      <td>0</td>\n",
              "    </tr>\n",
              "    <tr>\n",
              "      <th>1</th>\n",
              "      <td>7</td>\n",
              "      <td>0</td>\n",
              "      <td>0</td>\n",
              "      <td>0</td>\n",
              "      <td>0</td>\n",
              "      <td>0</td>\n",
              "      <td>0</td>\n",
              "      <td>0</td>\n",
              "      <td>0</td>\n",
              "      <td>0</td>\n",
              "      <td>...</td>\n",
              "      <td>0</td>\n",
              "      <td>0</td>\n",
              "      <td>0</td>\n",
              "      <td>0</td>\n",
              "      <td>0</td>\n",
              "      <td>0</td>\n",
              "      <td>0</td>\n",
              "      <td>0</td>\n",
              "      <td>0</td>\n",
              "      <td>0</td>\n",
              "    </tr>\n",
              "    <tr>\n",
              "      <th>2</th>\n",
              "      <td>0</td>\n",
              "      <td>0</td>\n",
              "      <td>0</td>\n",
              "      <td>0</td>\n",
              "      <td>0</td>\n",
              "      <td>0</td>\n",
              "      <td>1</td>\n",
              "      <td>0</td>\n",
              "      <td>0</td>\n",
              "      <td>0</td>\n",
              "      <td>...</td>\n",
              "      <td>142</td>\n",
              "      <td>142</td>\n",
              "      <td>142</td>\n",
              "      <td>21</td>\n",
              "      <td>0</td>\n",
              "      <td>3</td>\n",
              "      <td>0</td>\n",
              "      <td>0</td>\n",
              "      <td>0</td>\n",
              "      <td>0</td>\n",
              "    </tr>\n",
              "    <tr>\n",
              "      <th>3</th>\n",
              "      <td>8</td>\n",
              "      <td>0</td>\n",
              "      <td>0</td>\n",
              "      <td>0</td>\n",
              "      <td>0</td>\n",
              "      <td>0</td>\n",
              "      <td>0</td>\n",
              "      <td>0</td>\n",
              "      <td>0</td>\n",
              "      <td>0</td>\n",
              "      <td>...</td>\n",
              "      <td>0</td>\n",
              "      <td>0</td>\n",
              "      <td>0</td>\n",
              "      <td>0</td>\n",
              "      <td>0</td>\n",
              "      <td>0</td>\n",
              "      <td>0</td>\n",
              "      <td>0</td>\n",
              "      <td>0</td>\n",
              "      <td>0</td>\n",
              "    </tr>\n",
              "    <tr>\n",
              "      <th>4</th>\n",
              "      <td>8</td>\n",
              "      <td>0</td>\n",
              "      <td>0</td>\n",
              "      <td>0</td>\n",
              "      <td>0</td>\n",
              "      <td>0</td>\n",
              "      <td>0</td>\n",
              "      <td>0</td>\n",
              "      <td>0</td>\n",
              "      <td>0</td>\n",
              "      <td>...</td>\n",
              "      <td>213</td>\n",
              "      <td>203</td>\n",
              "      <td>174</td>\n",
              "      <td>151</td>\n",
              "      <td>188</td>\n",
              "      <td>10</td>\n",
              "      <td>0</td>\n",
              "      <td>0</td>\n",
              "      <td>0</td>\n",
              "      <td>0</td>\n",
              "    </tr>\n",
              "  </tbody>\n",
              "</table>\n",
              "<p>5 rows × 785 columns</p>\n",
              "</div>\n",
              "    <div class=\"colab-df-buttons\">\n",
              "\n",
              "  <div class=\"colab-df-container\">\n",
              "    <button class=\"colab-df-convert\" onclick=\"convertToInteractive('df-1f151127-b02a-4798-8bce-514d6605d95d')\"\n",
              "            title=\"Convert this dataframe to an interactive table.\"\n",
              "            style=\"display:none;\">\n",
              "\n",
              "  <svg xmlns=\"http://www.w3.org/2000/svg\" height=\"24px\" viewBox=\"0 -960 960 960\">\n",
              "    <path d=\"M120-120v-720h720v720H120Zm60-500h600v-160H180v160Zm220 220h160v-160H400v160Zm0 220h160v-160H400v160ZM180-400h160v-160H180v160Zm440 0h160v-160H620v160ZM180-180h160v-160H180v160Zm440 0h160v-160H620v160Z\"/>\n",
              "  </svg>\n",
              "    </button>\n",
              "\n",
              "  <style>\n",
              "    .colab-df-container {\n",
              "      display:flex;\n",
              "      gap: 12px;\n",
              "    }\n",
              "\n",
              "    .colab-df-convert {\n",
              "      background-color: #E8F0FE;\n",
              "      border: none;\n",
              "      border-radius: 50%;\n",
              "      cursor: pointer;\n",
              "      display: none;\n",
              "      fill: #1967D2;\n",
              "      height: 32px;\n",
              "      padding: 0 0 0 0;\n",
              "      width: 32px;\n",
              "    }\n",
              "\n",
              "    .colab-df-convert:hover {\n",
              "      background-color: #E2EBFA;\n",
              "      box-shadow: 0px 1px 2px rgba(60, 64, 67, 0.3), 0px 1px 3px 1px rgba(60, 64, 67, 0.15);\n",
              "      fill: #174EA6;\n",
              "    }\n",
              "\n",
              "    .colab-df-buttons div {\n",
              "      margin-bottom: 4px;\n",
              "    }\n",
              "\n",
              "    [theme=dark] .colab-df-convert {\n",
              "      background-color: #3B4455;\n",
              "      fill: #D2E3FC;\n",
              "    }\n",
              "\n",
              "    [theme=dark] .colab-df-convert:hover {\n",
              "      background-color: #434B5C;\n",
              "      box-shadow: 0px 1px 3px 1px rgba(0, 0, 0, 0.15);\n",
              "      filter: drop-shadow(0px 1px 2px rgba(0, 0, 0, 0.3));\n",
              "      fill: #FFFFFF;\n",
              "    }\n",
              "  </style>\n",
              "\n",
              "    <script>\n",
              "      const buttonEl =\n",
              "        document.querySelector('#df-1f151127-b02a-4798-8bce-514d6605d95d button.colab-df-convert');\n",
              "      buttonEl.style.display =\n",
              "        google.colab.kernel.accessAllowed ? 'block' : 'none';\n",
              "\n",
              "      async function convertToInteractive(key) {\n",
              "        const element = document.querySelector('#df-1f151127-b02a-4798-8bce-514d6605d95d');\n",
              "        const dataTable =\n",
              "          await google.colab.kernel.invokeFunction('convertToInteractive',\n",
              "                                                    [key], {});\n",
              "        if (!dataTable) return;\n",
              "\n",
              "        const docLinkHtml = 'Like what you see? Visit the ' +\n",
              "          '<a target=\"_blank\" href=https://colab.research.google.com/notebooks/data_table.ipynb>data table notebook</a>'\n",
              "          + ' to learn more about interactive tables.';\n",
              "        element.innerHTML = '';\n",
              "        dataTable['output_type'] = 'display_data';\n",
              "        await google.colab.output.renderOutput(dataTable, element);\n",
              "        const docLink = document.createElement('div');\n",
              "        docLink.innerHTML = docLinkHtml;\n",
              "        element.appendChild(docLink);\n",
              "      }\n",
              "    </script>\n",
              "  </div>\n",
              "\n",
              "\n",
              "    <div id=\"df-3aa9b2e9-4e4a-413f-aa8f-0d263a872d9e\">\n",
              "      <button class=\"colab-df-quickchart\" onclick=\"quickchart('df-3aa9b2e9-4e4a-413f-aa8f-0d263a872d9e')\"\n",
              "                title=\"Suggest charts\"\n",
              "                style=\"display:none;\">\n",
              "\n",
              "<svg xmlns=\"http://www.w3.org/2000/svg\" height=\"24px\"viewBox=\"0 0 24 24\"\n",
              "     width=\"24px\">\n",
              "    <g>\n",
              "        <path d=\"M19 3H5c-1.1 0-2 .9-2 2v14c0 1.1.9 2 2 2h14c1.1 0 2-.9 2-2V5c0-1.1-.9-2-2-2zM9 17H7v-7h2v7zm4 0h-2V7h2v10zm4 0h-2v-4h2v4z\"/>\n",
              "    </g>\n",
              "</svg>\n",
              "      </button>\n",
              "\n",
              "<style>\n",
              "  .colab-df-quickchart {\n",
              "      --bg-color: #E8F0FE;\n",
              "      --fill-color: #1967D2;\n",
              "      --hover-bg-color: #E2EBFA;\n",
              "      --hover-fill-color: #174EA6;\n",
              "      --disabled-fill-color: #AAA;\n",
              "      --disabled-bg-color: #DDD;\n",
              "  }\n",
              "\n",
              "  [theme=dark] .colab-df-quickchart {\n",
              "      --bg-color: #3B4455;\n",
              "      --fill-color: #D2E3FC;\n",
              "      --hover-bg-color: #434B5C;\n",
              "      --hover-fill-color: #FFFFFF;\n",
              "      --disabled-bg-color: #3B4455;\n",
              "      --disabled-fill-color: #666;\n",
              "  }\n",
              "\n",
              "  .colab-df-quickchart {\n",
              "    background-color: var(--bg-color);\n",
              "    border: none;\n",
              "    border-radius: 50%;\n",
              "    cursor: pointer;\n",
              "    display: none;\n",
              "    fill: var(--fill-color);\n",
              "    height: 32px;\n",
              "    padding: 0;\n",
              "    width: 32px;\n",
              "  }\n",
              "\n",
              "  .colab-df-quickchart:hover {\n",
              "    background-color: var(--hover-bg-color);\n",
              "    box-shadow: 0 1px 2px rgba(60, 64, 67, 0.3), 0 1px 3px 1px rgba(60, 64, 67, 0.15);\n",
              "    fill: var(--button-hover-fill-color);\n",
              "  }\n",
              "\n",
              "  .colab-df-quickchart-complete:disabled,\n",
              "  .colab-df-quickchart-complete:disabled:hover {\n",
              "    background-color: var(--disabled-bg-color);\n",
              "    fill: var(--disabled-fill-color);\n",
              "    box-shadow: none;\n",
              "  }\n",
              "\n",
              "  .colab-df-spinner {\n",
              "    border: 2px solid var(--fill-color);\n",
              "    border-color: transparent;\n",
              "    border-bottom-color: var(--fill-color);\n",
              "    animation:\n",
              "      spin 1s steps(1) infinite;\n",
              "  }\n",
              "\n",
              "  @keyframes spin {\n",
              "    0% {\n",
              "      border-color: transparent;\n",
              "      border-bottom-color: var(--fill-color);\n",
              "      border-left-color: var(--fill-color);\n",
              "    }\n",
              "    20% {\n",
              "      border-color: transparent;\n",
              "      border-left-color: var(--fill-color);\n",
              "      border-top-color: var(--fill-color);\n",
              "    }\n",
              "    30% {\n",
              "      border-color: transparent;\n",
              "      border-left-color: var(--fill-color);\n",
              "      border-top-color: var(--fill-color);\n",
              "      border-right-color: var(--fill-color);\n",
              "    }\n",
              "    40% {\n",
              "      border-color: transparent;\n",
              "      border-right-color: var(--fill-color);\n",
              "      border-top-color: var(--fill-color);\n",
              "    }\n",
              "    60% {\n",
              "      border-color: transparent;\n",
              "      border-right-color: var(--fill-color);\n",
              "    }\n",
              "    80% {\n",
              "      border-color: transparent;\n",
              "      border-right-color: var(--fill-color);\n",
              "      border-bottom-color: var(--fill-color);\n",
              "    }\n",
              "    90% {\n",
              "      border-color: transparent;\n",
              "      border-bottom-color: var(--fill-color);\n",
              "    }\n",
              "  }\n",
              "</style>\n",
              "\n",
              "      <script>\n",
              "        async function quickchart(key) {\n",
              "          const quickchartButtonEl =\n",
              "            document.querySelector('#' + key + ' button');\n",
              "          quickchartButtonEl.disabled = true;  // To prevent multiple clicks.\n",
              "          quickchartButtonEl.classList.add('colab-df-spinner');\n",
              "          try {\n",
              "            const charts = await google.colab.kernel.invokeFunction(\n",
              "                'suggestCharts', [key], {});\n",
              "          } catch (error) {\n",
              "            console.error('Error during call to suggestCharts:', error);\n",
              "          }\n",
              "          quickchartButtonEl.classList.remove('colab-df-spinner');\n",
              "          quickchartButtonEl.classList.add('colab-df-quickchart-complete');\n",
              "        }\n",
              "        (() => {\n",
              "          let quickchartButtonEl =\n",
              "            document.querySelector('#df-3aa9b2e9-4e4a-413f-aa8f-0d263a872d9e button');\n",
              "          quickchartButtonEl.style.display =\n",
              "            google.colab.kernel.accessAllowed ? 'block' : 'none';\n",
              "        })();\n",
              "      </script>\n",
              "    </div>\n",
              "\n",
              "    </div>\n",
              "  </div>\n"
            ],
            "application/vnd.google.colaboratory.intrinsic+json": {
              "type": "dataframe",
              "variable_name": "data"
            }
          },
          "metadata": {},
          "execution_count": 7
        }
      ]
    },
    {
      "cell_type": "code",
      "source": [
        "data.info()"
      ],
      "metadata": {
        "colab": {
          "base_uri": "https://localhost:8080/"
        },
        "id": "AVEyQ9WeWHRo",
        "outputId": "33462160-f441-400a-f8c9-40e133cf9a6e"
      },
      "execution_count": null,
      "outputs": [
        {
          "output_type": "stream",
          "name": "stdout",
          "text": [
            "<class 'pandas.core.frame.DataFrame'>\n",
            "RangeIndex: 6000 entries, 0 to 5999\n",
            "Columns: 785 entries, label to pixel784\n",
            "dtypes: int64(785)\n",
            "memory usage: 35.9 MB\n"
          ]
        }
      ]
    },
    {
      "cell_type": "code",
      "source": [
        "data.isnull().sum()"
      ],
      "metadata": {
        "colab": {
          "base_uri": "https://localhost:8080/",
          "height": 458
        },
        "id": "Eyf5pkcNWRSe",
        "outputId": "ef2d847d-4e60-43e9-ec6c-4546ec2840b7"
      },
      "execution_count": null,
      "outputs": [
        {
          "output_type": "execute_result",
          "data": {
            "text/plain": [
              "label       0\n",
              "pixel1      0\n",
              "pixel2      0\n",
              "pixel3      0\n",
              "pixel4      0\n",
              "           ..\n",
              "pixel780    0\n",
              "pixel781    0\n",
              "pixel782    0\n",
              "pixel783    0\n",
              "pixel784    0\n",
              "Length: 785, dtype: int64"
            ],
            "text/html": [
              "<div>\n",
              "<style scoped>\n",
              "    .dataframe tbody tr th:only-of-type {\n",
              "        vertical-align: middle;\n",
              "    }\n",
              "\n",
              "    .dataframe tbody tr th {\n",
              "        vertical-align: top;\n",
              "    }\n",
              "\n",
              "    .dataframe thead th {\n",
              "        text-align: right;\n",
              "    }\n",
              "</style>\n",
              "<table border=\"1\" class=\"dataframe\">\n",
              "  <thead>\n",
              "    <tr style=\"text-align: right;\">\n",
              "      <th></th>\n",
              "      <th>0</th>\n",
              "    </tr>\n",
              "  </thead>\n",
              "  <tbody>\n",
              "    <tr>\n",
              "      <th>label</th>\n",
              "      <td>0</td>\n",
              "    </tr>\n",
              "    <tr>\n",
              "      <th>pixel1</th>\n",
              "      <td>0</td>\n",
              "    </tr>\n",
              "    <tr>\n",
              "      <th>pixel2</th>\n",
              "      <td>0</td>\n",
              "    </tr>\n",
              "    <tr>\n",
              "      <th>pixel3</th>\n",
              "      <td>0</td>\n",
              "    </tr>\n",
              "    <tr>\n",
              "      <th>pixel4</th>\n",
              "      <td>0</td>\n",
              "    </tr>\n",
              "    <tr>\n",
              "      <th>...</th>\n",
              "      <td>...</td>\n",
              "    </tr>\n",
              "    <tr>\n",
              "      <th>pixel780</th>\n",
              "      <td>0</td>\n",
              "    </tr>\n",
              "    <tr>\n",
              "      <th>pixel781</th>\n",
              "      <td>0</td>\n",
              "    </tr>\n",
              "    <tr>\n",
              "      <th>pixel782</th>\n",
              "      <td>0</td>\n",
              "    </tr>\n",
              "    <tr>\n",
              "      <th>pixel783</th>\n",
              "      <td>0</td>\n",
              "    </tr>\n",
              "    <tr>\n",
              "      <th>pixel784</th>\n",
              "      <td>0</td>\n",
              "    </tr>\n",
              "  </tbody>\n",
              "</table>\n",
              "<p>785 rows × 1 columns</p>\n",
              "</div><br><label><b>dtype:</b> int64</label>"
            ]
          },
          "metadata": {},
          "execution_count": 9
        }
      ]
    },
    {
      "cell_type": "code",
      "source": [
        "#create 5*5 grid of images\n",
        "fig, axes = plt.subplots(5, 5, figsize=(10, 10))\n",
        "fig.suptitle(\"First 25 images\", fontsize=20)\n",
        "\n",
        "#plot the first 25 images from the dataset\n",
        "for i, ax in enumerate(axes.flat):\n",
        "    img =data.iloc[i, 1:].values.reshape(28, 28)\n",
        "    ax.imshow(img, cmap='gray')\n",
        "    ax.axis('off')\n",
        "    ax.set_title(data.iloc[i, 0])\n",
        "\n",
        "plt.show()"
      ],
      "metadata": {
        "colab": {
          "base_uri": "https://localhost:8080/",
          "height": 807
        },
        "id": "dyLoofrJWbgP",
        "outputId": "761e304a-99ed-4ba2-f293-b55b88ea4ad7"
      },
      "execution_count": null,
      "outputs": [
        {
          "output_type": "display_data",
          "data": {
            "text/plain": [
              "<Figure size 1000x1000 with 25 Axes>"
            ],
            "image/png": "[encoded data removed]"
          },
          "metadata": {}
        }
      ]
    },
    {
      "cell_type": "code",
      "source": [
        "#train-test split\n",
        "X = data.iloc[:, 1:].values\n",
        "y = data.iloc[:, 0].values"
      ],
      "metadata": {
        "id": "kIGv-WmVZeel"
      },
      "execution_count": null,
      "outputs": []
    },
    {
      "cell_type": "code",
      "source": [
        "print(X)\n",
        "print('-'*50)\n",
        "print(y)"
      ],
      "metadata": {
        "colab": {
          "base_uri": "https://localhost:8080/"
        },
        "id": "PHjnvSsCZymy",
        "outputId": "b1facb43-1c26-419c-eb62-67c412229873"
      },
      "execution_count": null,
      "outputs": [
        {
          "output_type": "stream",
          "name": "stdout",
          "text": [
            "[[  0   0   0 ... 165   0   0]\n",
            " [  0   0   0 ...   0   0   0]\n",
            " [  0   0   0 ...   0   0   0]\n",
            " ...\n",
            " [  0   0   0 ...   0   0   0]\n",
            " [  0   0   0 ...   0   0   0]\n",
            " [  0   0   0 ...   0   0   0]]\n",
            "--------------------------------------------------\n",
            "[9 7 0 ... 8 4 8]\n"
          ]
        }
      ]
    },
    {
      "cell_type": "code",
      "source": [
        "X_train, X_test, y_train, y_test = train_test_split(X,y, test_size=0.2,random_state=0)"
      ],
      "metadata": {
        "id": "t3arIqKraCQq"
      },
      "execution_count": null,
      "outputs": []
    },
    {
      "cell_type": "code",
      "source": [
        "# scaling the feautures\n",
        "X_train = X_train/255.0\n",
        "X_test = X_test/255.0"
      ],
      "metadata": {
        "id": "TNBO61U2aUQK"
      },
      "execution_count": null,
      "outputs": []
    },
    {
      "cell_type": "code",
      "source": [
        "X_train"
      ],
      "metadata": {
        "colab": {
          "base_uri": "https://localhost:8080/"
        },
        "id": "iQGl_XfJaYb6",
        "outputId": "d39c2e9f-e309-47bd-d62d-953cc481941e"
      },
      "execution_count": null,
      "outputs": [
        {
          "output_type": "execute_result",
          "data": {
            "text/plain": [
              "array([[0., 0., 0., ..., 0., 0., 0.],\n",
              "       [0., 0., 0., ..., 0., 0., 0.],\n",
              "       [0., 0., 0., ..., 0., 0., 0.],\n",
              "       ...,\n",
              "       [0., 0., 0., ..., 0., 0., 0.],\n",
              "       [0., 0., 0., ..., 0., 0., 0.],\n",
              "       [0., 0., 0., ..., 0., 0., 0.]])"
            ]
          },
          "metadata": {},
          "execution_count": 17
        }
      ]
    },
    {
      "cell_type": "code",
      "source": [
        "X_train.shape"
      ],
      "metadata": {
        "colab": {
          "base_uri": "https://localhost:8080/"
        },
        "id": "phRrxUnRjSeB",
        "outputId": "74cbd7d7-2d3d-4499-c2e1-e0af3e67dc3d"
      },
      "execution_count": null,
      "outputs": [
        {
          "output_type": "execute_result",
          "data": {
            "text/plain": [
              "(4800, 784)"
            ]
          },
          "metadata": {},
          "execution_count": 18
        }
      ]
    },
    {
      "cell_type": "code",
      "source": [
        "X_train.shape[1]"
      ],
      "metadata": {
        "colab": {
          "base_uri": "https://localhost:8080/"
        },
        "id": "yLplJaGTjgGJ",
        "outputId": "97173b68-21f4-4c9a-dcb3-cc030a9b4041"
      },
      "execution_count": null,
      "outputs": [
        {
          "output_type": "execute_result",
          "data": {
            "text/plain": [
              "784"
            ]
          },
          "metadata": {},
          "execution_count": 19
        }
      ]
    },
    {
      "cell_type": "code",
      "source": [
        "#Create customdateset class\n",
        "class fashiondataset(Dataset):\n",
        "  def __init__(self,features, labels):\n",
        "    self.features = torch.tensor(features, dtype=torch.float32)\n",
        "    self.labels = torch.tensor(labels, dtype=torch.long)\n",
        "\n",
        "  def __len__(self):\n",
        "    return len(self.features)\n",
        "\n",
        "  def __getitem__(self, index):\n",
        "     return self.features[index], self.labels[index]"
      ],
      "metadata": {
        "id": "_9EgABXdcCiv"
      },
      "execution_count": null,
      "outputs": []
    },
    {
      "cell_type": "code",
      "source": [
        "#create train_dataset object\n",
        "train_dataset = fashiondataset(X_train, y_train)"
      ],
      "metadata": {
        "id": "PSKnh5XJemfX"
      },
      "execution_count": null,
      "outputs": []
    },
    {
      "cell_type": "code",
      "source": [
        "train_dataset[1]"
      ],
      "metadata": {
        "colab": {
          "base_uri": "https://localhost:8080/"
        },
        "id": "lifxp9gNfMd2",
        "outputId": "a0d6b312-5063-457b-e9d9-e7d8f74a910d"
      },
      "execution_count": null,
      "outputs": [
        {
          "output_type": "execute_result",
          "data": {
            "text/plain": [
              "(tensor([0.0000, 0.0000, 0.0000, 0.0000, 0.0000, 0.0000, 0.0000, 0.0000, 0.0000,\n",
              "         0.3451, 0.7686, 0.5961, 0.6235, 0.6235, 0.6196, 0.6157, 0.6157, 0.7647,\n",
              "         0.5098, 0.0000, 0.0000, 0.0000, 0.0000, 0.0000, 0.0000, 0.0000, 0.0000,\n",
              "         0.0000, 0.0000, 0.0000, 0.0000, 0.0000, 0.0000, 0.0000, 0.0000, 0.0000,\n",
              "         0.0000, 0.9176, 0.9922, 1.0000, 1.0000, 1.0000, 1.0000, 1.0000, 0.9843,\n",
              "         0.9373, 0.9529, 0.0000, 0.0000, 0.0000, 0.0000, 0.0000, 0.0000, 0.0000,\n",
              "         0.0000, 0.0000, 0.0000, 0.0000, 0.0000, 0.0000, 0.0000, 0.0000, 0.0000,\n",
              "         0.0000, 0.0196, 1.0000, 0.8745, 0.8431, 0.8588, 0.8706, 0.8510, 0.8549,\n",
              "         0.8588, 0.8588, 1.0000, 0.0510, 0.0000, 0.0000, 0.0000, 0.0000, 0.0000,\n",
              "         0.0000, 0.0000, 0.0000, 0.0000, 0.0000, 0.0000, 0.0000, 0.0000, 0.0000,\n",
              "         0.0000, 0.0000, 0.3333, 1.0000, 0.9255, 0.9333, 0.8784, 0.9020, 0.9020,\n",
              "         0.8980, 0.8941, 0.8627, 1.0000, 0.2706, 0.0000, 0.0000, 0.0000, 0.0000,\n",
              "         0.0000, 0.0000, 0.0000, 0.0000, 0.0000, 0.0000, 0.0000, 0.0000, 0.0000,\n",
              "         0.0000, 0.0000, 0.0000, 0.6157, 1.0000, 0.8706, 0.9451, 0.9451, 0.8980,\n",
              "         0.8941, 0.8941, 0.8863, 0.8627, 0.9647, 0.4980, 0.0000, 0.0000, 0.0000,\n",
              "         0.0000, 0.0000, 0.0000, 0.0000, 0.0000, 0.0000, 0.0000, 0.0000, 0.0000,\n",
              "         0.0000, 0.0000, 0.0000, 0.0000, 0.6941, 1.0000, 0.8902, 0.8902, 0.9137,\n",
              "         0.9137, 0.8863, 0.8941, 0.8902, 0.8627, 0.9412, 0.6392, 0.0000, 0.0000,\n",
              "         0.0000, 0.0000, 0.0000, 0.0000, 0.0000, 0.0000, 0.0000, 0.0000, 0.0000,\n",
              "         0.0000, 0.0000, 0.0000, 0.0000, 0.0000, 0.6471, 1.0000, 0.8706, 0.9020,\n",
              "         0.9098, 0.9137, 0.9020, 0.8980, 0.8941, 0.8549, 0.9608, 0.5490, 0.0000,\n",
              "         0.0000, 0.0000, 0.0000, 0.0000, 0.0000, 0.0000, 0.0000, 0.0000, 0.0000,\n",
              "         0.0000, 0.0000, 0.0000, 0.0000, 0.0000, 0.0000, 0.5490, 1.0000, 0.8745,\n",
              "         0.9137, 0.9020, 0.8980, 0.8980, 0.9020, 0.8941, 0.8588, 0.9961, 0.3804,\n",
              "         0.0000, 0.0000, 0.0000, 0.0000, 0.0000, 0.0000, 0.0000, 0.0000, 0.0000,\n",
              "         0.0000, 0.0000, 0.0000, 0.0000, 0.0000, 0.0000, 0.0000, 0.5098, 1.0000,\n",
              "         0.8667, 0.8902, 0.8941, 0.9294, 0.9176, 0.9294, 0.9294, 0.8627, 1.0000,\n",
              "         0.0980, 0.0000, 0.0000, 0.0000, 0.0000, 0.0000, 0.0000, 0.0000, 0.0000,\n",
              "         0.0000, 0.0000, 0.0000, 0.0000, 0.0000, 0.0000, 0.0000, 0.0000, 0.4941,\n",
              "         1.0000, 0.8667, 0.9020, 0.9059, 0.9922, 0.9647, 0.9451, 0.9176, 0.8706,\n",
              "         1.0000, 0.1490, 0.0000, 0.0000, 0.0000, 0.0000, 0.0000, 0.0000, 0.0000,\n",
              "         0.0000, 0.0000, 0.0000, 0.0000, 0.0000, 0.0000, 0.0000, 0.0000, 0.0000,\n",
              "         0.4549, 1.0000, 0.8745, 0.8667, 0.9647, 0.7255, 0.8275, 0.9961, 0.9098,\n",
              "         0.8824, 1.0000, 0.2824, 0.0000, 0.0000, 0.0000, 0.0000, 0.0000, 0.0000,\n",
              "         0.0000, 0.0000, 0.0000, 0.0000, 0.0000, 0.0000, 0.0000, 0.0000, 0.0000,\n",
              "         0.0000, 0.4157, 1.0000, 0.8863, 0.8549, 1.0000, 0.3804, 0.7294, 1.0000,\n",
              "         0.8902, 0.8902, 1.0000, 0.2118, 0.0000, 0.0000, 0.0000, 0.0000, 0.0000,\n",
              "         0.0000, 0.0000, 0.0000, 0.0000, 0.0000, 0.0000, 0.0000, 0.0000, 0.0000,\n",
              "         0.0000, 0.0000, 0.2353, 1.0000, 0.9020, 0.8510, 1.0000, 0.1569, 0.5686,\n",
              "         1.0000, 0.8824, 0.8980, 1.0000, 0.1490, 0.0000, 0.0000, 0.0000, 0.0000,\n",
              "         0.0000, 0.0000, 0.0000, 0.0000, 0.0000, 0.0000, 0.0000, 0.0000, 0.0000,\n",
              "         0.0000, 0.0000, 0.0000, 0.1216, 1.0000, 0.9098, 0.8588, 1.0000, 0.0863,\n",
              "         0.5333, 1.0000, 0.9059, 0.8941, 1.0000, 0.0196, 0.0000, 0.0000, 0.0000,\n",
              "         0.0000, 0.0000, 0.0000, 0.0000, 0.0000, 0.0000, 0.0000, 0.0000, 0.0000,\n",
              "         0.0000, 0.0000, 0.0000, 0.0000, 0.1059, 1.0000, 0.9020, 0.8824, 1.0000,\n",
              "         0.0000, 0.5608, 1.0000, 0.8980, 0.8980, 0.9804, 0.0000, 0.0000, 0.0000,\n",
              "         0.0000, 0.0000, 0.0000, 0.0000, 0.0000, 0.0000, 0.0000, 0.0000, 0.0000,\n",
              "         0.0000, 0.0000, 0.0000, 0.0000, 0.0000, 0.0000, 1.0000, 0.9294, 0.8941,\n",
              "         1.0000, 0.0000, 0.2549, 1.0000, 0.8980, 0.9059, 0.8980, 0.0000, 0.0000,\n",
              "         0.0000, 0.0000, 0.0000, 0.0000, 0.0000, 0.0000, 0.0000, 0.0000, 0.0000,\n",
              "         0.0000, 0.0000, 0.0000, 0.0000, 0.0000, 0.0000, 0.0000, 0.9059, 0.9569,\n",
              "         0.8980, 1.0000, 0.0000, 0.0745, 1.0000, 0.9137, 0.9137, 0.8118, 0.0000,\n",
              "         0.0000, 0.0000, 0.0000, 0.0000, 0.0000, 0.0000, 0.0000, 0.0000, 0.0000,\n",
              "         0.0000, 0.0000, 0.0000, 0.0000, 0.0000, 0.0000, 0.0000, 0.0000, 0.8392,\n",
              "         0.9686, 0.9059, 1.0000, 0.0000, 0.0000, 1.0000, 0.9333, 0.9333, 0.7569,\n",
              "         0.0000, 0.0000, 0.0000, 0.0000, 0.0000, 0.0000, 0.0000, 0.0000, 0.0000,\n",
              "         0.0000, 0.0000, 0.0000, 0.0000, 0.0000, 0.0000, 0.0000, 0.0000, 0.0000,\n",
              "         0.7647, 0.9804, 0.9059, 1.0000, 0.0000, 0.0000, 0.9451, 0.9569, 0.9373,\n",
              "         0.7529, 0.0000, 0.0000, 0.0000, 0.0000, 0.0000, 0.0000, 0.0000, 0.0000,\n",
              "         0.0000, 0.0000, 0.0000, 0.0000, 0.0000, 0.0000, 0.0000, 0.0000, 0.0000,\n",
              "         0.0000, 0.5961, 0.9922, 0.9098, 1.0000, 0.0000, 0.0000, 0.9216, 0.9686,\n",
              "         0.9451, 0.7216, 0.0000, 0.0000, 0.0000, 0.0000, 0.0000, 0.0000, 0.0000,\n",
              "         0.0000, 0.0000, 0.0000, 0.0000, 0.0000, 0.0000, 0.0000, 0.0000, 0.0000,\n",
              "         0.0000, 0.0000, 0.3569, 1.0000, 0.8824, 1.0000, 0.2157, 0.0000, 1.0000,\n",
              "         0.9490, 0.9647, 0.6745, 0.0000, 0.0000, 0.0000, 0.0000, 0.0000, 0.0000,\n",
              "         0.0000, 0.0000, 0.0000, 0.0000, 0.0000, 0.0000, 0.0000, 0.0000, 0.0000,\n",
              "         0.0000, 0.0000, 0.0000, 0.1490, 0.9725, 0.8941, 0.9922, 0.3294, 0.0000,\n",
              "         1.0000, 0.9451, 0.9725, 0.6471, 0.0000, 0.0000, 0.0000, 0.0000, 0.0000,\n",
              "         0.0000, 0.0000, 0.0000, 0.0000, 0.0000, 0.0000, 0.0000, 0.0000, 0.0000,\n",
              "         0.0000, 0.0000, 0.0000, 0.0000, 0.0000, 0.9137, 0.9216, 0.9882, 0.3529,\n",
              "         0.0000, 1.0000, 0.9255, 1.0000, 0.5529, 0.0000, 0.0000, 0.0000, 0.0000,\n",
              "         0.0000, 0.0000, 0.0000, 0.0000, 0.0000, 0.0000, 0.0000, 0.0000, 0.0000,\n",
              "         0.0000, 0.0000, 0.0000, 0.0000, 0.0000, 0.0000, 0.7922, 0.9451, 0.9843,\n",
              "         0.6902, 0.0000, 1.0000, 0.9451, 0.9373, 0.1333, 0.0000, 0.0000, 0.0000,\n",
              "         0.0000, 0.0000, 0.0000, 0.0000, 0.0000, 0.0000, 0.0000, 0.0000, 0.0000,\n",
              "         0.0000, 0.0000, 0.0000, 0.0000, 0.0000, 0.0000, 0.0000, 0.7686, 0.9647,\n",
              "         0.9725, 0.6941, 0.0000, 0.8941, 0.9804, 0.8784, 0.0000, 0.0000, 0.0000,\n",
              "         0.0000, 0.0000, 0.0000, 0.0000, 0.0000, 0.0000, 0.0000, 0.0000, 0.0000,\n",
              "         0.0000, 0.0000, 0.0000, 0.0000, 0.0000, 0.0000, 0.0078, 0.0000, 0.3255,\n",
              "         0.9725, 0.9569, 0.6471, 0.0000, 1.0000, 0.9529, 0.9137, 0.0549, 0.0000,\n",
              "         0.0000, 0.0000, 0.0000, 0.0000, 0.0000, 0.0000, 0.0000, 0.0000, 0.0000,\n",
              "         0.0000, 0.0000, 0.0000, 0.0000, 0.0000, 0.0000, 0.0000, 0.0039, 0.0000,\n",
              "         0.0000, 0.6824, 1.0000, 0.4471, 0.0000, 0.4824, 1.0000, 0.4941, 0.0000,\n",
              "         0.0000, 0.0000, 0.0000, 0.0000, 0.0000, 0.0000, 0.0000, 0.0000, 0.0000,\n",
              "         0.0000, 0.0000, 0.0000, 0.0000, 0.0000, 0.0000, 0.0000, 0.0000, 0.0000,\n",
              "         0.0000, 0.0000, 0.3137, 0.7882, 0.2392, 0.0000, 0.2627, 0.7608, 0.1333,\n",
              "         0.0000, 0.0039, 0.0000, 0.0000, 0.0000, 0.0000, 0.0000, 0.0000, 0.0000,\n",
              "         0.0000]),\n",
              " tensor(1))"
            ]
          },
          "metadata": {},
          "execution_count": 22
        }
      ]
    },
    {
      "cell_type": "code",
      "source": [
        "#Create train and test data loader\n",
        "train_loader = DataLoader(train_dataset, batch_size=50, shuffle=True)\n",
        "test_loader = DataLoader(train_dataset, batch_size=50, shuffle=False)"
      ],
      "metadata": {
        "id": "ZJagS1e2f5dl"
      },
      "execution_count": null,
      "outputs": []
    },
    {
      "cell_type": "code",
      "source": [
        "#Define Neural Network Class\n",
        "class neuralnetwork(nn.Module):\n",
        "  def __init__(self, num_features):\n",
        "    super().__init__()\n",
        "    self.model = nn.Sequential(\n",
        "        nn.Linear(num_features, 128),\n",
        "        nn.BatchNorm1d(128),  #(Using Batch Normalization)\n",
        "        nn.ReLU(),\n",
        "        nn.Dropout(0.3),     #(Using Dropouts)\n",
        "        nn.Linear(128,64),\n",
        "        nn.BatchNorm1d(64),\n",
        "        nn.ReLU(),\n",
        "        nn.Dropout(0.3),\n",
        "        nn.Linear(64,10)\n",
        "    )\n",
        "\n",
        "  def forward(self, X):\n",
        "    return self.model(X)\n"
      ],
      "metadata": {
        "id": "BEJo0sJagxBb"
      },
      "execution_count": null,
      "outputs": []
    },
    {
      "cell_type": "code",
      "source": [
        "#set learning rate and epochs\n",
        "learning_rate = 0.1\n",
        "epochs =100"
      ],
      "metadata": {
        "id": "0ZlWpgK8ilJO"
      },
      "execution_count": null,
      "outputs": []
    },
    {
      "cell_type": "code",
      "source": [
        "#create a model object\n",
        "model = neuralnetwork(X_train.shape[1])\n",
        "model.to(device)     #use of GPU\n",
        "\n",
        "#loss function\n",
        "loss_fn= nn.CrossEntropyLoss()\n",
        "\n",
        "#optimizer\n",
        "optimizer = optim.SGD(model.parameters(), lr=learning_rate, weight_decay=0.0001)"
      ],
      "metadata": {
        "id": "t70KyFeki9mh"
      },
      "execution_count": null,
      "outputs": []
    },
    {
      "cell_type": "code",
      "source": [
        "len(train_loader)"
      ],
      "metadata": {
        "colab": {
          "base_uri": "https://localhost:8080/"
        },
        "id": "RxKPCYPnoR0o",
        "outputId": "23118eaf-4bfc-4d4f-c2ef-5b276cf307b0"
      },
      "execution_count": null,
      "outputs": [
        {
          "output_type": "execute_result",
          "data": {
            "text/plain": [
              "96"
            ]
          },
          "metadata": {},
          "execution_count": 29
        }
      ]
    },
    {
      "cell_type": "code",
      "source": [
        "#training loop\n",
        "for epoch in range(epochs):\n",
        "  total_epoch_loss = 0.0\n",
        "  for batch_features, batch_labels in train_loader:\n",
        "\n",
        "    #move data to gpu\n",
        "    batch_features = batch_features.to(device)\n",
        "    batch_labels = batch_labels.to(device)\n",
        "\n",
        "    #forward pass\n",
        "    outputs = model(batch_features)\n",
        "\n",
        "    #calculate loss\n",
        "    loss = loss_fn(outputs, batch_labels)\n",
        "\n",
        "    #back pass\n",
        "    optimizer.zero_grad()\n",
        "    loss.backward()\n",
        "\n",
        "    #update grads\n",
        "    optimizer.step()\n",
        "\n",
        "    total_epoch_loss = total_epoch_loss + loss.item()\n",
        "\n",
        "  avg_loss = total_epoch_loss/len(train_loader)\n",
        "  print(f'Epoch: {epoch + 1} , Loss: {avg_loss}')"
      ],
      "metadata": {
        "colab": {
          "base_uri": "https://localhost:8080/"
        },
        "id": "f4iqbyehkpAD",
        "outputId": "ecc3028b-e65a-45b8-c3d0-4a2e3cce83c7"
      },
      "execution_count": null,
      "outputs": [
        {
          "output_type": "stream",
          "name": "stdout",
          "text": [
            "Epoch: 1 , Loss: 1.0142754043142002\n",
            "Epoch: 2 , Loss: 0.6942223599180579\n",
            "Epoch: 3 , Loss: 0.6160049752021829\n",
            "Epoch: 4 , Loss: 0.5577106416846315\n",
            "Epoch: 5 , Loss: 0.5363620910793543\n",
            "Epoch: 6 , Loss: 0.4956411626189947\n",
            "Epoch: 7 , Loss: 0.4822050317501028\n",
            "Epoch: 8 , Loss: 0.45292559328178567\n",
            "Epoch: 9 , Loss: 0.4541981207827727\n",
            "Epoch: 10 , Loss: 0.4198312172666192\n",
            "Epoch: 11 , Loss: 0.39277301185453933\n",
            "Epoch: 12 , Loss: 0.4008911866694689\n",
            "Epoch: 13 , Loss: 0.39705740194767714\n",
            "Epoch: 14 , Loss: 0.36152414853374165\n",
            "Epoch: 15 , Loss: 0.36819234893967706\n",
            "Epoch: 16 , Loss: 0.3375542432380219\n",
            "Epoch: 17 , Loss: 0.3405471129032473\n",
            "Epoch: 18 , Loss: 0.32701040043806034\n",
            "Epoch: 19 , Loss: 0.3282639909690867\n",
            "Epoch: 20 , Loss: 0.3022842177500327\n",
            "Epoch: 21 , Loss: 0.2958052732671301\n",
            "Epoch: 22 , Loss: 0.28921413111190003\n",
            "Epoch: 23 , Loss: 0.28750811556043726\n",
            "Epoch: 24 , Loss: 0.2771874469084044\n",
            "Epoch: 25 , Loss: 0.26456480581934255\n",
            "Epoch: 26 , Loss: 0.2630703072063625\n",
            "Epoch: 27 , Loss: 0.24267133395187557\n",
            "Epoch: 28 , Loss: 0.2629390816825132\n",
            "Epoch: 29 , Loss: 0.25187099538743496\n",
            "Epoch: 30 , Loss: 0.24603036139160395\n",
            "Epoch: 31 , Loss: 0.24358354834839702\n",
            "Epoch: 32 , Loss: 0.2325260096695274\n",
            "Epoch: 33 , Loss: 0.23417543604349098\n",
            "Epoch: 34 , Loss: 0.22445903074306747\n",
            "Epoch: 35 , Loss: 0.20939101736682156\n",
            "Epoch: 36 , Loss: 0.20594394389384738\n",
            "Epoch: 37 , Loss: 0.20727272944835326\n",
            "Epoch: 38 , Loss: 0.21650342142675072\n",
            "Epoch: 39 , Loss: 0.21255615388508886\n",
            "Epoch: 40 , Loss: 0.1900907262849311\n",
            "Epoch: 41 , Loss: 0.20046809587317208\n",
            "Epoch: 42 , Loss: 0.1917163560477396\n",
            "Epoch: 43 , Loss: 0.1742449344989533\n",
            "Epoch: 44 , Loss: 0.18758882108765343\n",
            "Epoch: 45 , Loss: 0.18599911344548067\n",
            "Epoch: 46 , Loss: 0.18963964749127626\n",
            "Epoch: 47 , Loss: 0.18746218531547734\n",
            "Epoch: 48 , Loss: 0.17067874917605272\n",
            "Epoch: 49 , Loss: 0.16516591527033597\n",
            "Epoch: 50 , Loss: 0.16243235728082558\n",
            "Epoch: 51 , Loss: 0.15420385477288315\n",
            "Epoch: 52 , Loss: 0.15020620015760264\n",
            "Epoch: 53 , Loss: 0.16859256771082679\n",
            "Epoch: 54 , Loss: 0.15001543708300838\n",
            "Epoch: 55 , Loss: 0.1603168152505532\n",
            "Epoch: 56 , Loss: 0.15840425757536045\n",
            "Epoch: 57 , Loss: 0.14313545272064707\n",
            "Epoch: 58 , Loss: 0.14038638906398168\n",
            "Epoch: 59 , Loss: 0.14926711904505888\n",
            "Epoch: 60 , Loss: 0.13936751207802445\n",
            "Epoch: 61 , Loss: 0.14357761029774943\n",
            "Epoch: 62 , Loss: 0.14427764607050145\n",
            "Epoch: 63 , Loss: 0.1323732859066998\n",
            "Epoch: 64 , Loss: 0.15162661574625722\n",
            "Epoch: 65 , Loss: 0.1283415580401197\n",
            "Epoch: 66 , Loss: 0.12128759509262939\n",
            "Epoch: 67 , Loss: 0.12537166454906887\n",
            "Epoch: 68 , Loss: 0.13510556829472384\n",
            "Epoch: 69 , Loss: 0.1263158793638771\n",
            "Epoch: 70 , Loss: 0.1113701957219746\n",
            "Epoch: 71 , Loss: 0.13726468908134848\n",
            "Epoch: 72 , Loss: 0.1103962992298572\n",
            "Epoch: 73 , Loss: 0.10812689645293479\n",
            "Epoch: 74 , Loss: 0.10222116180617984\n",
            "Epoch: 75 , Loss: 0.10929454954263444\n",
            "Epoch: 76 , Loss: 0.11572365598597874\n",
            "Epoch: 77 , Loss: 0.11229420986880238\n",
            "Epoch: 78 , Loss: 0.10678882312883313\n",
            "Epoch: 79 , Loss: 0.12292553142954905\n",
            "Epoch: 80 , Loss: 0.10906848092175399\n",
            "Epoch: 81 , Loss: 0.09930110113540043\n",
            "Epoch: 82 , Loss: 0.10382549268736814\n",
            "Epoch: 83 , Loss: 0.10986343412272011\n",
            "Epoch: 84 , Loss: 0.09561656468819517\n",
            "Epoch: 85 , Loss: 0.10625707788858563\n",
            "Epoch: 86 , Loss: 0.10453498685577263\n",
            "Epoch: 87 , Loss: 0.08666301502186495\n",
            "Epoch: 88 , Loss: 0.10487109271343797\n",
            "Epoch: 89 , Loss: 0.09325985591082524\n",
            "Epoch: 90 , Loss: 0.09883684915257618\n",
            "Epoch: 91 , Loss: 0.09179673464192699\n",
            "Epoch: 92 , Loss: 0.09181827818004724\n",
            "Epoch: 93 , Loss: 0.09409406480457012\n",
            "Epoch: 94 , Loss: 0.08999316063515532\n",
            "Epoch: 95 , Loss: 0.1068083849386312\n",
            "Epoch: 96 , Loss: 0.09991529626616587\n",
            "Epoch: 97 , Loss: 0.09537856051368483\n",
            "Epoch: 98 , Loss: 0.08964497912287091\n",
            "Epoch: 99 , Loss: 0.08789342042291537\n",
            "Epoch: 100 , Loss: 0.08568101879791357\n"
          ]
        }
      ]
    },
    {
      "cell_type": "markdown",
      "source": [
        "Evaluation"
      ],
      "metadata": {
        "id": "kTvJLrpGo9XQ"
      }
    },
    {
      "cell_type": "code",
      "source": [
        "# set model to eval mode\n",
        "model.eval()"
      ],
      "metadata": {
        "colab": {
          "base_uri": "https://localhost:8080/"
        },
        "id": "bFLk2eN9pTfA",
        "outputId": "51da41dc-5046-4d9a-da9d-5a7cc0c71309"
      },
      "execution_count": null,
      "outputs": [
        {
          "output_type": "execute_result",
          "data": {
            "text/plain": [
              "neuralnetwork(\n",
              "  (model): Sequential(\n",
              "    (0): Linear(in_features=784, out_features=128, bias=True)\n",
              "    (1): BatchNorm1d(128, eps=1e-05, momentum=0.1, affine=True, track_running_stats=True)\n",
              "    (2): ReLU()\n",
              "    (3): Dropout(p=0.3, inplace=False)\n",
              "    (4): Linear(in_features=128, out_features=64, bias=True)\n",
              "    (5): BatchNorm1d(64, eps=1e-05, momentum=0.1, affine=True, track_running_stats=True)\n",
              "    (6): ReLU()\n",
              "    (7): Dropout(p=0.3, inplace=False)\n",
              "    (8): Linear(in_features=64, out_features=10, bias=True)\n",
              "  )\n",
              ")"
            ]
          },
          "metadata": {},
          "execution_count": 30
        }
      ]
    },
    {
      "cell_type": "code",
      "source": [
        "# evaluation code\n",
        "total = 0\n",
        "correct = 0\n",
        "\n",
        "with torch.no_grad():\n",
        "\n",
        "  for batch_features, batch_labels in test_loader:\n",
        "\n",
        "    #move data to gpu\n",
        "    batch_features = batch_features.to(device)\n",
        "    batch_labels = batch_labels.to(device)\n",
        "\n",
        "    outputs = model(batch_features)\n",
        "\n",
        "    _, predicted = torch.max(outputs, 1)\n",
        "\n",
        "    total = total + batch_labels.shape[0]\n",
        "\n",
        "    correct = correct + (predicted == batch_labels).sum().item()\n",
        "\n",
        "print(correct/total)\n"
      ],
      "metadata": {
        "colab": {
          "base_uri": "https://localhost:8080/"
        },
        "id": "-B1yC1aco-2b",
        "outputId": "f0320900-05ef-4379-dedd-d760df3898ec"
      },
      "execution_count": null,
      "outputs": [
        {
          "output_type": "stream",
          "name": "stdout",
          "text": [
            "0.9922916666666667\n"
          ]
        }
      ]
    },
    {
      "cell_type": "code",
      "source": [
        "len(test_loader)"
      ],
      "metadata": {
        "colab": {
          "base_uri": "https://localhost:8080/"
        },
        "id": "jTGdgZ3bpHyS",
        "outputId": "969cc7bc-0622-434f-c8a6-d3b5494515c1"
      },
      "execution_count": null,
      "outputs": [
        {
          "output_type": "execute_result",
          "data": {
            "text/plain": [
              "96"
            ]
          },
          "metadata": {},
          "execution_count": 32
        }
      ]
    },
    {
      "cell_type": "code",
      "source": [
        "# evaluation code\n",
        "total = 0\n",
        "correct = 0\n",
        "\n",
        "with torch.no_grad():\n",
        "\n",
        "  for batch_features, batch_labels in train_loader:\n",
        "\n",
        "    #move data to gpu\n",
        "    batch_features = batch_features.to(device)\n",
        "    batch_labels = batch_labels.to(device)\n",
        "\n",
        "    outputs = model(batch_features)\n",
        "\n",
        "    _, predicted = torch.max(outputs, 1)\n",
        "\n",
        "    total = total + batch_labels.shape[0]\n",
        "\n",
        "    correct = correct + (predicted == batch_labels).sum().item()\n",
        "\n",
        "print(correct/total)\n"
      ],
      "metadata": {
        "colab": {
          "base_uri": "https://localhost:8080/"
        },
        "id": "K58og6aVT1pA",
        "outputId": "b0cbdb56-8376-45b0-db9c-6be405aad401"
      },
      "execution_count": null,
      "outputs": [
        {
          "output_type": "stream",
          "name": "stdout",
          "text": [
            "0.9922916666666667\n"
          ]
        }
      ]
    }
  ]
}