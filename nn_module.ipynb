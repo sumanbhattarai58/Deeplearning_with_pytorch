{
  "nbformat": 4,
  "nbformat_minor": 0,
  "metadata": {
    "colab": {
      "provenance": [],
      "authorship_tag": "ABX9TyN7so4gvMAeGcMaTwBPt1JB",
      "include_colab_link": true
    },
    "kernelspec": {
      "name": "python3",
      "display_name": "Python 3"
    },
    "language_info": {
      "name": "python"
    }
  },
  "cells": [
    {
      "cell_type": "markdown",
      "metadata": {
        "id": "view-in-github",
        "colab_type": "text"
      },
      "source": [
        "<a href=\"https://colab.research.google.com/github/sumanbhattarai58/Deeplearning_with_pytorch/blob/main/nn_module.ipynb\" target=\"_parent\"><img src=\"https://colab.research.google.com/assets/colab-badge.svg\" alt=\"Open In Colab\"/></a>"
      ]
    },
    {
      "cell_type": "markdown",
      "source": [
        "1. Creating neural network with 6 inputs, and a single neuron with one output."
      ],
      "metadata": {
        "id": "l2t6vusbCshS"
      }
    },
    {
      "cell_type": "code",
      "execution_count": null,
      "metadata": {
        "id": "7JMqf88i7KCK"
      },
      "outputs": [],
      "source": [
        "#create model class\n",
        "import torch\n",
        "import torch.nn as nn\n",
        "\n",
        "class Model(nn.Module):\n",
        "\n",
        "  def __init__(self, num_features):\n",
        "\n",
        "    super().__init__()\n",
        "    self.linear = nn.Linear(num_features,1)\n",
        "    self.sigmoid = nn.Sigmoid()\n",
        "\n",
        "  def forward(self,features):\n",
        "    out = self.linear(features)\n",
        "    out= self.sigmoid(out)\n",
        "\n",
        "    return(out)"
      ]
    },
    {
      "cell_type": "code",
      "source": [
        "#create dataset\n",
        "features = torch.rand(10,6)\n",
        "\n",
        "#create model\n",
        "model = Model(features.shape[1])\n",
        "\n",
        "#call model for forward pass\n",
        "model(features)"
      ],
      "metadata": {
        "colab": {
          "base_uri": "https://localhost:8080/"
        },
        "id": "n_Atxpx78oPv",
        "outputId": "340106d3-1d16-47c5-c612-06cb42c5315a"
      },
      "execution_count": null,
      "outputs": [
        {
          "output_type": "execute_result",
          "data": {
            "text/plain": [
              "tensor([[0.4777],\n",
              "        [0.4593],\n",
              "        [0.5109],\n",
              "        [0.4683],\n",
              "        [0.4949],\n",
              "        [0.4329],\n",
              "        [0.5925],\n",
              "        [0.4568],\n",
              "        [0.5745],\n",
              "        [0.5997]], grad_fn=<SigmoidBackward0>)"
            ]
          },
          "metadata": {},
          "execution_count": 14
        }
      ]
    },
    {
      "cell_type": "code",
      "source": [
        "#show model weights\n",
        "model.linear.weight"
      ],
      "metadata": {
        "colab": {
          "base_uri": "https://localhost:8080/"
        },
        "id": "CvcmRGey-rLd",
        "outputId": "c85b9ae2-ff31-4c9e-94e6-0cfcb65a3ffd"
      },
      "execution_count": null,
      "outputs": [
        {
          "output_type": "execute_result",
          "data": {
            "text/plain": [
              "Parameter containing:\n",
              "tensor([[-0.3745,  0.0207,  0.1507,  0.2874,  0.3820,  0.0197]],\n",
              "       requires_grad=True)"
            ]
          },
          "metadata": {},
          "execution_count": 15
        }
      ]
    },
    {
      "cell_type": "code",
      "source": [
        "#show model bias\n",
        "model.linear.bias"
      ],
      "metadata": {
        "colab": {
          "base_uri": "https://localhost:8080/"
        },
        "id": "nGTuRtfw-1OR",
        "outputId": "9a192ece-2428-4bae-a728-c6392bcbbd35"
      },
      "execution_count": null,
      "outputs": [
        {
          "output_type": "execute_result",
          "data": {
            "text/plain": [
              "Parameter containing:\n",
              "tensor([-0.2201], requires_grad=True)"
            ]
          },
          "metadata": {},
          "execution_count": 16
        }
      ]
    },
    {
      "cell_type": "code",
      "source": [
        "pip install torchinfo"
      ],
      "metadata": {
        "colab": {
          "base_uri": "https://localhost:8080/"
        },
        "id": "RsrfYKAf_BqB",
        "outputId": "8c98fbe2-cc57-44e6-8b88-2fd7a88defc8"
      },
      "execution_count": null,
      "outputs": [
        {
          "output_type": "stream",
          "name": "stdout",
          "text": [
            "Collecting torchinfo\n",
            "  Downloading torchinfo-1.8.0-py3-none-any.whl.metadata (21 kB)\n",
            "Downloading torchinfo-1.8.0-py3-none-any.whl (23 kB)\n",
            "Installing collected packages: torchinfo\n",
            "Successfully installed torchinfo-1.8.0\n"
          ]
        }
      ]
    },
    {
      "cell_type": "code",
      "source": [
        "from torchinfo import summary\n",
        "summary(model,input_size=(10,6))"
      ],
      "metadata": {
        "colab": {
          "base_uri": "https://localhost:8080/"
        },
        "id": "7UswKxqF_I3w",
        "outputId": "54aa0f80-8de5-415b-9c58-67966d2e538c"
      },
      "execution_count": null,
      "outputs": [
        {
          "output_type": "execute_result",
          "data": {
            "text/plain": [
              "==========================================================================================\n",
              "Layer (type:depth-idx)                   Output Shape              Param #\n",
              "==========================================================================================\n",
              "Model                                    [10, 1]                   --\n",
              "├─Linear: 1-1                            [10, 1]                   7\n",
              "├─Sigmoid: 1-2                           [10, 1]                   --\n",
              "==========================================================================================\n",
              "Total params: 7\n",
              "Trainable params: 7\n",
              "Non-trainable params: 0\n",
              "Total mult-adds (Units.MEGABYTES): 0.00\n",
              "==========================================================================================\n",
              "Input size (MB): 0.00\n",
              "Forward/backward pass size (MB): 0.00\n",
              "Params size (MB): 0.00\n",
              "Estimated Total Size (MB): 0.00\n",
              "=========================================================================================="
            ]
          },
          "metadata": {},
          "execution_count": 19
        }
      ]
    },
    {
      "cell_type": "markdown",
      "source": [
        "2. Creating neural network with 6 inputs, no. of hidden layer 1 with 4 neurons and single output."
      ],
      "metadata": {
        "id": "eBPzZoQ4C5PG"
      }
    },
    {
      "cell_type": "code",
      "source": [
        "import torch\n",
        "import torch.nn as nn\n",
        "class Model(nn.Module):\n",
        "  def __init__(self,num_features):\n",
        "\n",
        "    super().__init__()\n",
        "    self.linear1 = nn.Linear(num_features,4)\n",
        "    self.relu = nn.ReLU()\n",
        "    self.linear2 = nn.Linear(4,1)\n",
        "    self.sigmoid = nn.Sigmoid()\n",
        "\n",
        "  def forward(self,features):\n",
        "    out = self.linear1(features)\n",
        "    out = self.relu(out)\n",
        "    out = self.linear2(out)\n",
        "    out = self.sigmoid(out)\n",
        "\n",
        "    return(out)\n",
        "\n"
      ],
      "metadata": {
        "id": "ySPzR5VM_I3F"
      },
      "execution_count": null,
      "outputs": []
    },
    {
      "cell_type": "code",
      "metadata": {
        "colab": {
          "base_uri": "https://localhost:8080/"
        },
        "id": "90b75028",
        "outputId": "8e10aeaa-724c-4df8-da49-0e8480216668"
      },
      "source": [
        "#create dataset\n",
        "features = torch.rand(10,6)\n",
        "print(features)"
      ],
      "execution_count": null,
      "outputs": [
        {
          "output_type": "stream",
          "name": "stdout",
          "text": [
            "tensor([[0.9862, 0.8410, 0.6393, 0.3449, 0.5551, 0.5356],\n",
            "        [0.2694, 0.8639, 0.5808, 0.7592, 0.5619, 0.8644],\n",
            "        [0.5796, 0.0340, 0.1239, 0.5967, 0.2745, 0.2891],\n",
            "        [0.5163, 0.6670, 0.6256, 0.1597, 0.7671, 0.7826],\n",
            "        [0.2209, 0.5831, 0.8235, 0.6004, 0.5993, 0.3317],\n",
            "        [0.7346, 0.7787, 0.3867, 0.5009, 0.5670, 0.7214],\n",
            "        [0.7528, 0.7892, 0.0282, 0.7832, 0.9858, 0.0854],\n",
            "        [0.2580, 0.5435, 0.2944, 0.0146, 0.9556, 0.7241],\n",
            "        [0.8351, 0.7526, 0.7917, 0.4599, 0.0886, 0.4241],\n",
            "        [0.8199, 0.3934, 0.9218, 0.7622, 0.7609, 0.5844]])\n"
          ]
        }
      ]
    },
    {
      "cell_type": "code",
      "source": [
        "#create model\n",
        "model = Model(features.shape[1])\n",
        "\n",
        "#call model for forward pass\n",
        "model(features)"
      ],
      "metadata": {
        "colab": {
          "base_uri": "https://localhost:8080/"
        },
        "id": "0DrU8oUDI2fI",
        "outputId": "1cc2574a-5a69-47b7-b49c-815bc6abeb55"
      },
      "execution_count": null,
      "outputs": [
        {
          "output_type": "execute_result",
          "data": {
            "text/plain": [
              "tensor([[0.5703],\n",
              "        [0.5575],\n",
              "        [0.5744],\n",
              "        [0.4990],\n",
              "        [0.5522],\n",
              "        [0.5615],\n",
              "        [0.6160],\n",
              "        [0.4640],\n",
              "        [0.5951],\n",
              "        [0.5840]], grad_fn=<SigmoidBackward0>)"
            ]
          },
          "metadata": {},
          "execution_count": 27
        }
      ]
    },
    {
      "cell_type": "code",
      "source": [
        "model.linear1.weight"
      ],
      "metadata": {
        "colab": {
          "base_uri": "https://localhost:8080/"
        },
        "id": "wo2UgCVTJEvg",
        "outputId": "3ae20afd-c6de-4cca-945e-727a04027da1"
      },
      "execution_count": null,
      "outputs": [
        {
          "output_type": "execute_result",
          "data": {
            "text/plain": [
              "Parameter containing:\n",
              "tensor([[-3.1601e-01, -3.1600e-01, -2.1083e-01, -9.7364e-02,  1.5867e-01,\n",
              "         -7.7424e-02],\n",
              "        [ 1.1312e-01, -6.7253e-02, -2.8724e-01,  2.9054e-01, -1.8335e-01,\n",
              "         -1.8399e-01],\n",
              "        [ 1.1589e-01, -3.0787e-04,  1.7040e-01,  4.0168e-01, -4.4994e-02,\n",
              "         -1.1795e-01],\n",
              "        [ 3.3212e-01,  3.5186e-01,  6.9003e-02,  3.6132e-01, -1.1434e-01,\n",
              "         -1.6891e-01]], requires_grad=True)"
            ]
          },
          "metadata": {},
          "execution_count": 28
        }
      ]
    },
    {
      "cell_type": "code",
      "source": [
        "from torchinfo import summary\n",
        "summary(model,input_size=(10,6))"
      ],
      "metadata": {
        "colab": {
          "base_uri": "https://localhost:8080/"
        },
        "id": "VSiCgqULJRU_",
        "outputId": "acc1a3dd-f5e9-42a9-e052-03dbe77ff3d9"
      },
      "execution_count": null,
      "outputs": [
        {
          "output_type": "execute_result",
          "data": {
            "text/plain": [
              "==========================================================================================\n",
              "Layer (type:depth-idx)                   Output Shape              Param #\n",
              "==========================================================================================\n",
              "Model                                    [10, 1]                   --\n",
              "├─Linear: 1-1                            [10, 4]                   28\n",
              "├─ReLU: 1-2                              [10, 4]                   --\n",
              "├─Linear: 1-3                            [10, 1]                   5\n",
              "├─Sigmoid: 1-4                           [10, 1]                   --\n",
              "==========================================================================================\n",
              "Total params: 33\n",
              "Trainable params: 33\n",
              "Non-trainable params: 0\n",
              "Total mult-adds (Units.MEGABYTES): 0.00\n",
              "==========================================================================================\n",
              "Input size (MB): 0.00\n",
              "Forward/backward pass size (MB): 0.00\n",
              "Params size (MB): 0.00\n",
              "Estimated Total Size (MB): 0.00\n",
              "=========================================================================================="
            ]
          },
          "metadata": {},
          "execution_count": 29
        }
      ]
    },
    {
      "cell_type": "code",
      "source": [
        "#Use of sequential\n",
        "class Model(nn.Module):\n",
        "  def __init__(self,num_features):\n",
        "\n",
        "    super().__init__()\n",
        "    self.network = nn.Sequential(\n",
        "       nn.Linear(num_features,4),\n",
        "       nn.ReLU(),\n",
        "       nn.Linear(4,1),\n",
        "       nn.Sigmoid()\n",
        "    )\n",
        "\n",
        "  def forward(self,features):\n",
        "    out = self.network(features)\n",
        "\n",
        "\n",
        "    return(out)\n",
        "\n"
      ],
      "metadata": {
        "id": "9ldnVnU8K1qJ"
      },
      "execution_count": null,
      "outputs": []
    }
  ]
}